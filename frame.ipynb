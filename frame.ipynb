{
 "cells": [
  {
   "cell_type": "code",
   "execution_count": 1,
   "metadata": {},
   "outputs": [],
   "source": [
    "import os\n",
    "import cv2\n",
    "import numpy as np"
   ]
  },
  {
   "cell_type": "code",
   "execution_count": 2,
   "metadata": {},
   "outputs": [
    {
     "name": "stdout",
     "output_type": "stream",
     "text": [
      "Processing video: Frag_19.avi, Frames processed: 0\n",
      "Processing video: Frag_31.avi, Frames processed: 121\n",
      "Processing video: Frag_25.avi, Frames processed: 242\n",
      "Processing video: Frag_4.avi, Frames processed: 363\n",
      "Processing video: Frag_5.avi, Frames processed: 484\n",
      "Processing video: Frag_24.avi, Frames processed: 605\n",
      "Processing video: Frag_30.avi, Frames processed: 726\n",
      "Processing video: Frag_18.avi, Frames processed: 847\n",
      "Processing video: Frag_26.avi, Frames processed: 968\n",
      "Processing video: Frag_32.avi, Frames processed: 1089\n",
      "Processing video: Frag_7.avi, Frames processed: 1210\n",
      "Processing video: Frag_6.avi, Frames processed: 1331\n",
      "Processing video: Frag_33.avi, Frames processed: 1452\n",
      "Processing video: Frag_27.avi, Frames processed: 1573\n",
      "Processing video: Frag_23.avi, Frames processed: 1694\n",
      "Processing video: Frag_2.avi, Frames processed: 1815\n",
      "Processing video: Frag_3.avi, Frames processed: 1936\n",
      "Processing video: Frag_36.avi, Frames processed: 2057\n",
      "Processing video: Frag_22.avi, Frames processed: 2178\n",
      "Processing video: Frag_34.avi, Frames processed: 2299\n",
      "Processing video: Frag_20.avi, Frames processed: 2420\n",
      "Processing video: Frag_21.avi, Frames processed: 2541\n",
      "Processing video: Frag_35.avi, Frames processed: 2662\n",
      "Processing video: Frag_38.avi, Frames processed: 2783\n",
      "Processing video: Frag_10.avi, Frames processed: 2878\n",
      "Processing video: Frag_11.avi, Frames processed: 2999\n",
      "Processing video: Frag_13.avi, Frames processed: 3120\n",
      "Processing video: Frag_12.avi, Frames processed: 3241\n",
      "Processing video: Frag_16.avi, Frames processed: 3362\n",
      "Processing video: Frag_17.avi, Frames processed: 3483\n",
      "Processing video: Frag_15.avi, Frames processed: 3604\n",
      "Processing video: Frag_29.avi, Frames processed: 3725\n",
      "Processing video: Frag_8.avi, Frames processed: 3846\n",
      "Processing video: Frag_9.avi, Frames processed: 3967\n",
      "Processing video: Frag_28.avi, Frames processed: 4088\n",
      "Processing video: Frag_14.avi, Frames processed: 4209\n",
      "\n",
      "Video processed\n"
     ]
    }
   ],
   "source": [
    "participant_id = \"AP_05\"\n",
    "path = os.path.join(\"data\", participant_id, \"thermal-raw\")\n",
    "#path = os.path.join(\"/Volumes/SANDISK USB\", \"data\", participant_id, \"thermal-raw\")\n",
    "\n",
    "frame_count = 0\n",
    "all_frames = []\n",
    "frame_thresholds = []  # Store threshold for each frame\n",
    "\n",
    "left_right = ['Frag_13.avi', 'Frag_19.avi']\n",
    "left_right_frames = []\n",
    "\n",
    "count_left_right = 0 \n",
    "count_supine = 0\n",
    "\n",
    "threshold = 0\n",
    "\n",
    "for file_name in os.listdir(path):\n",
    "    # Skip files starting with ._\n",
    "    if file_name.startswith(\"._\"):\n",
    "        continue\n",
    "    \n",
    "    if file_name.endswith(\".avi\") and not file_name.startswith(\"Frag_1.avi\"):\n",
    "        print(f\"Processing video: {file_name}, Frames processed: {frame_count}\")\n",
    "\n",
    "        # Determine the frame interval and threshold for this video\n",
    "        if file_name in left_right:\n",
    "            # For left/right position videos\n",
    "            frame_interval = 2000  # Capture every 2 seconds\n",
    "            threshold = 5  # Lower threshold for frame similarity\n",
    "        else:\n",
    "            frame_interval = 5000  # Capture every 5 seconds\n",
    "            threshold = 16  # Default threshold\n",
    "\n",
    "        # Open the video file\n",
    "        video_path = os.path.join(path, file_name)\n",
    "        video = cv2.VideoCapture(video_path)\n",
    "        \n",
    "        if not video.isOpened():\n",
    "            print(f\"Error: Could not open video file {file_name}\")\n",
    "            continue\n",
    "\n",
    "        while True:\n",
    "            ret, frame = video.read()\n",
    "            if not ret:\n",
    "                video.release()  \n",
    "                cv2.destroyAllWindows()  \n",
    "                break\n",
    "\n",
    "            if not video.get(cv2.CAP_PROP_FRAME_COUNT):\n",
    "                print(f\"Warning: First frame of {file_name} is not a keyframe\")\n",
    "                \n",
    "            video.set(cv2.CAP_PROP_POS_MSEC, video.get(cv2.CAP_PROP_POS_MSEC) + frame_interval)\n",
    "\n",
    "            all_frames.append(frame)\n",
    "            frame_thresholds.append(threshold)  # Store the threshold value\n",
    "            frame_count += 1\n",
    "\n",
    "            if file_name in left_right:\n",
    "                left_right_frames.append(frame)\n",
    "\n",
    "            cv2.imshow(\"Frame\", frame) \n",
    "            if frame_interval == 2000:\n",
    "                count_left_right += 1\n",
    "            elif frame_interval == 5000:\n",
    "                count_supine += 1\n",
    "\n",
    "            if cv2.waitKey(1) & 0xFF == ord('q'):\n",
    "                video.release()\n",
    "                cv2.destroyAllWindows()\n",
    "                break\n",
    "print(\"\\nVideo processed\")\n"
   ]
  },
  {
   "cell_type": "code",
   "execution_count": 3,
   "metadata": {},
   "outputs": [
    {
     "name": "stdout",
     "output_type": "stream",
     "text": [
      "Total frames processed: 4330\n",
      "\n",
      "Number of frames captured with 2000 ms interval: 0\n",
      "Number of frames captured with 5000 ms interval: 4330\n"
     ]
    }
   ],
   "source": [
    "all_frames = np.array(all_frames) # Convert the list of frames to a NumPy array \n",
    "print(f\"Total frames processed: {frame_count}\")\n",
    "\n",
    "# Print the number of frames captured using different intervals\n",
    "print(f\"\\nNumber of frames captured with 2000 ms interval: {count_left_right}\")\n",
    "print(f\"Number of frames captured with 5000 ms interval: {count_supine}\")"
   ]
  },
  {
   "cell_type": "code",
   "execution_count": 4,
   "metadata": {},
   "outputs": [
    {
     "name": "stdout",
     "output_type": "stream",
     "text": [
      "Total frames extracted: 4330\n",
      "Number of unique frames: 180\n",
      "Number of unique frames from left/right videos: 0\n",
      "Percentage of unique frames from left/right videos: 0.00%\n"
     ]
    }
   ],
   "source": [
    "print(\"Total frames extracted:\", all_frames.shape[0]) \n",
    "\n",
    "unique_frames = []\n",
    "unique_left_right_count = 0\n",
    "\n",
    "# Loop through each frame\n",
    "for i in range(all_frames.shape[0]):\n",
    "    is_unique = True\n",
    "    current_threshold = frame_thresholds[i]\n",
    "\n",
    "    for frame in unique_frames:\n",
    "        diff = cv2.absdiff(all_frames[i], frame)\n",
    "        if np.mean(diff) < current_threshold:\n",
    "            is_unique = False\n",
    "            break\n",
    "\n",
    "    if is_unique:\n",
    "        unique_frames.append(all_frames[i])\n",
    "\n",
    "unique_frames = np.array(unique_frames)\n",
    "left_right_frames = np.array(left_right_frames)\n",
    "\n",
    "\n",
    "for unique_frame in unique_frames:\n",
    "    for lr_frame in left_right_frames:\n",
    "        if np.array_equal(unique_frame, lr_frame):\n",
    "            unique_left_right_count += 1\n",
    "            break\n",
    "\n",
    "print(\"Number of unique frames:\", unique_frames.shape[0])\n",
    "print(f\"Number of unique frames from left/right videos: {unique_left_right_count}\")\n",
    "print(f\"Percentage of unique frames from left/right videos: {(unique_left_right_count / unique_frames.shape[0]) * 100:.2f}%\")"
   ]
  },
  {
   "cell_type": "code",
   "execution_count": 6,
   "metadata": {},
   "outputs": [
    {
     "name": "stdout",
     "output_type": "stream",
     "text": [
      "Unique frames saved to disk for participant: AP_05\n"
     ]
    },
    {
     "ename": "",
     "evalue": "",
     "output_type": "error",
     "traceback": [
      "\u001b[1;31mThe Kernel crashed while executing code in the current cell or a previous cell. \n",
      "\u001b[1;31mPlease review the code in the cell(s) to identify a possible cause of the failure. \n",
      "\u001b[1;31mClick <a href='https://aka.ms/vscodeJupyterKernelCrash'>here</a> for more info. \n",
      "\u001b[1;31mView Jupyter <a href='command:jupyter.viewOutput'>log</a> for further details."
     ]
    }
   ],
   "source": [
    "# save the unique frames\n",
    "frame_dir = os.path.join(\"data\", participant_id, \"frames_new\")\n",
    "#frame_dir = os.path.join(\"/Volumes/SANDISK USB\", \"data\", participant_id, \"frames\")\n",
    "if not os.path.exists(frame_dir):\n",
    "    os.makedirs(frame_dir)\n",
    "\n",
    "# Save each unique frame as an image\n",
    "for i in range(unique_frames.shape[0]):\n",
    "    image_path = os.path.join(frame_dir, participant_id + \"_\" + str(i) + \".jpg\")\n",
    "    cv2.imwrite(image_path, unique_frames[i])\n",
    "print(\"Unique frames saved to disk for participant: \" + participant_id)"
   ]
  },
  {
   "cell_type": "code",
   "execution_count": null,
   "metadata": {},
   "outputs": [],
   "source": [
    "# Display all frames\n",
    "# for img in all_frames:\n",
    "#     cv2.imshow(\"All Frames\", img)\n",
    "#     if cv2.waitKey(1) & 0xFF == ord('q'):  \n",
    "#         cv2.destroyAllWindows()\n",
    "#         break\n",
    "# cv2.destroyAllWindows()"
   ]
  },
  {
   "cell_type": "code",
   "execution_count": null,
   "metadata": {},
   "outputs": [],
   "source": [
    "# Display unique frames\n",
    "# for img in unique_frames:\n",
    "#     cv2.imshow(\"Unique Frames\", img)\n",
    "#     if cv2.waitKey(10) & 0xFF == ord('q'):  \n",
    "#         cv2.destroyAllWindows()\n",
    "#         break\n",
    "# cv2.destroyAllWindows()"
   ]
  }
 ],
 "metadata": {
  "kernelspec": {
   "display_name": "base",
   "language": "python",
   "name": "python3"
  },
  "language_info": {
   "codemirror_mode": {
    "name": "ipython",
    "version": 3
   },
   "file_extension": ".py",
   "mimetype": "text/x-python",
   "name": "python",
   "nbconvert_exporter": "python",
   "pygments_lexer": "ipython3",
   "version": "3.12.2"
  }
 },
 "nbformat": 4,
 "nbformat_minor": 2
}
